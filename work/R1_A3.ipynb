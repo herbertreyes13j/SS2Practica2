{
 "metadata": {
  "language_info": {
   "codemirror_mode": {
    "name": "ipython",
    "version": 3
   },
   "file_extension": ".py",
   "mimetype": "text/x-python",
   "name": "python",
   "nbconvert_exporter": "python",
   "pygments_lexer": "ipython3",
   "version": 3
  },
  "orig_nbformat": 2
 },
 "nbformat": 4,
 "nbformat_minor": 2,
 "cells": [
  {
   "cell_type": "code",
   "execution_count": null,
   "metadata": {},
   "outputs": [],
   "source": [
    "import findspark\n",
    "import plotly.graph_objects as go\n",
    "from pyspark import SparkContext\n",
    "from pyspark.sql.session import SparkSession\n",
    "from pyspark.sql import SQLContext\n",
    "\n",
    "\n",
    "findspark.init()\n",
    "sc = SparkContext(\"local\", \"first app\")\n",
    "spark = SparkSession(sc)\n",
    "sqlContext = SQLContext(sc)"
   ]
  },
  {
   "cell_type": "code",
   "execution_count": null,
   "metadata": {},
   "outputs": [],
   "source": [
    "archivo_entrada = sqlContext.read.format('com.databricks.spark.csv').options(header='true', inferschema='true', quote='\"', delimiter=',').load(\"entradas/Covid19.csv\")\n",
    "rddfilter = archivo_entrada.rdd.map(tuple)"
   ]
  },
  {
   "cell_type": "code",
   "execution_count": null,
   "metadata": {},
   "outputs": [],
   "source": [
    "rddCovid= rddfilter.map(lambda word: (word[7],word[5]))\n",
    "rddCovid.take(10)"
   ]
  },
  {
   "cell_type": "code",
   "execution_count": null,
   "metadata": {},
   "outputs": [],
   "source": [
    "rddCount=rddCovid.reduceByKey(lambda a,b: a+b)\n",
    "print(\"Conteo total -> %s\" % rddCount.collect())"
   ]
  },
  {
   "cell_type": "code",
   "execution_count": null,
   "metadata": {},
   "outputs": [],
   "source": [
    "rddOrder = rddCount.filter(lambda x: \"Cuba\" in x[0] or \"France\" in x[0] or \"Canada\" in x[0] or \"Singapore\" in x[0] or \"South_Korea\" in x[0])\n",
    "print(\"Resultados filtrados-> %s\"%rddOrder.collect())"
   ]
  },
  {
   "cell_type": "code",
   "execution_count": null,
   "metadata": {},
   "outputs": [],
   "source": [
    "rddNames = rddOrder.map(lambda x: (x[0]))\n",
    "rddTotals = rddOrder.map(lambda x: (x[1]))\n",
    "print(rddNames.collect())\n",
    "print(rddTotals.collect())"
   ]
  },
  {
   "cell_type": "code",
   "execution_count": null,
   "metadata": {},
   "outputs": [],
   "source": [
    "fig = go.Figure(data=go.Bar(x=rddNames.collect(),y=rddTotals.collect()))\n",
    "fig.update_layout(title_text='Número total de casos de COVID-19',title_font_size=30,\n",
    "                  yaxis=dict(title='Número de casos',title_font_size=25),\n",
    "                  xaxis=dict(title='Nombre Pais',title_font_size=25))\n",
    "fig.update_traces(overwrite=True, marker={\"opacity\": 0.5})\n",
    "fig.write_html('R1_A3.html', auto_open=True)"
   ]
  }
 ]
}