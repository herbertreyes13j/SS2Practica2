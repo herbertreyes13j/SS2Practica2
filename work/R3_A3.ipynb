{
 "metadata": {
  "language_info": {
   "codemirror_mode": {
    "name": "ipython",
    "version": 3
   },
   "file_extension": ".py",
   "mimetype": "text/x-python",
   "name": "python",
   "nbconvert_exporter": "python",
   "pygments_lexer": "ipython3",
   "version": 3
  },
  "orig_nbformat": 2
 },
 "nbformat": 4,
 "nbformat_minor": 2,
 "cells": [
  {
   "cell_type": "code",
   "execution_count": null,
   "metadata": {},
   "outputs": [],
   "source": [
    "import findspark\n",
    "import plotly.graph_objects as go\n",
    "from pyspark import SparkContext\n",
    "from pyspark.sql.session import SparkSession\n",
    "from pyspark.sql import SQLContext\n",
    "\n",
    "\n",
    "findspark.init()\n",
    "sc = SparkContext(\"local\", \"first app\")\n",
    "spark = SparkSession(sc)\n",
    "sqlContext = SQLContext(sc)"
   ]
  },
  {
   "cell_type": "code",
   "execution_count": null,
   "metadata": {},
   "outputs": [],
   "source": [
    "archivo_entrada = sqlContext.read.format('com.databricks.spark.csv').options(header='true', inferschema='true', quote='\"', delimiter=',').load(\"entradas/Covid19.csv\")\n",
    "rddfilter = archivo_entrada.rdd.map(tuple)"
   ]
  },
  {
   "cell_type": "code",
   "execution_count": null,
   "metadata": {},
   "outputs": [],
   "source": [
    "rddCovid= rddfilter.map(lambda word: (word[7],word[5],word[6],word[2]))\n",
    "rddCovid.take(10)"
   ]
  },
  {
   "cell_type": "code",
   "execution_count": null,
   "metadata": {},
   "outputs": [],
   "source": [
    "rddOrder = rddCovid.filter(lambda x: \"Guatemala\" in x[0] and x[3]==8)\n",
    "print(\"Resultados filtrados-> %s\" % rddOrder.collect())"
   ]
  },
  {
   "cell_type": "code",
   "execution_count": null,
   "metadata": {},
   "outputs": [],
   "source": [
    "sumCases = rddOrder.map(lambda x: x[1]).sum()\n",
    "sumDeaths = rddOrder.map(lambda x: x[2]).sum()\n",
    "\n",
    "rddNames = sc.parallelize([\"Casos\",\"Muertes\"])\n",
    "rddTotals = sc.parallelize([sumCases, sumDeaths])\n",
    "print(\"Nombres -> %s\" % rddNames.collect())\n",
    "print(\"Valores -> %s\" % rddTotals.collect())"
   ]
  },
  {
   "cell_type": "code",
   "execution_count": null,
   "metadata": {},
   "outputs": [],
   "source": [
    "fig = go.Figure(data=go.Pie(labels=rddNames.collect(),values=rddTotals.collect()))\n",
    "fig.update_layout(title_text='Casos y muertes Covid Guatemala en Agosto',title_font_size=30)\n",
    "fig.update_traces(hoverinfo='label+percent', textinfo='value', textfont_size=20)\n",
    "fig.write_html('R3_A3.html', auto_open=True)"
   ]
  }
 ]
}